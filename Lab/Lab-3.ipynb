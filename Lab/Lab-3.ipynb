{
 "cells": [
  {
   "cell_type": "code",
   "execution_count": 1,
   "metadata": {},
   "outputs": [
    {
     "name": "stdout",
     "output_type": "stream",
     "text": [
      "안녕하세요, 철수님!\n"
     ]
    }
   ],
   "source": [
    "def greet(name):\n",
    "    print(f\"안녕하세요, {name}님!\")\n",
    "greet(\"철수\")"
   ]
  },
  {
   "cell_type": "code",
   "execution_count": 9,
   "metadata": {},
   "outputs": [
    {
     "name": "stdout",
     "output_type": "stream",
     "text": [
      "홀수임. \n"
     ]
    }
   ],
   "source": [
    "def check_even_odd(num):\n",
    "    remain_num = num % 2\n",
    "    if remain_num == 0:\n",
    "        print(\"짝수입니다. \")\n",
    "    else:\n",
    "        print(\"홀수임. \")\n",
    "check_even_odd(3)"
   ]
  },
  {
   "cell_type": "code",
   "execution_count": 17,
   "metadata": {},
   "outputs": [
    {
     "name": "stdout",
     "output_type": "stream",
     "text": [
      "50\n"
     ]
    }
   ],
   "source": [
    "def rectangle_area(width,height):\n",
    "    area_formula = width * height\n",
    "    return area_formula\n",
    "area_formula = rectangle_area(5,10)\n",
    "print(area_formula)"
   ]
  },
  {
   "cell_type": "code",
   "execution_count": 22,
   "metadata": {},
   "outputs": [
    {
     "name": "stdout",
     "output_type": "stream",
     "text": [
      "15\n"
     ]
    }
   ],
   "source": [
    "def sum_list(numbers):\n",
    "    whole__numbers = sum(numbers)\n",
    "    return whole__numbers\n",
    "result = sum_list([1,2,3,4,5])\n",
    "print(result)"
   ]
  },
  {
   "cell_type": "code",
   "execution_count": 23,
   "metadata": {},
   "outputs": [
    {
     "name": "stdout",
     "output_type": "stream",
     "text": [
      "20\n"
     ]
    }
   ],
   "source": [
    "def find_max(a,b):\n",
    "    list1 = [a,b]\n",
    "    which_is_bigger = max(list1)\n",
    "    return which_is_bigger\n",
    "result = find_max(10,20)\n",
    "print(result)"
   ]
  },
  {
   "cell_type": "code",
   "execution_count": 24,
   "metadata": {},
   "outputs": [
    {
     "name": "stdout",
     "output_type": "stream",
     "text": [
      "12\n"
     ]
    }
   ],
   "source": [
    "def string_length(text):\n",
    "    measure_text = len(text)\n",
    "    return measure_text\n",
    "result = string_length(\"니하오, Python!\")\n",
    "print(result)"
   ]
  },
  {
   "cell_type": "code",
   "execution_count": 25,
   "metadata": {},
   "outputs": [
    {
     "name": "stdout",
     "output_type": "stream",
     "text": [
      "양수여. \n"
     ]
    }
   ],
   "source": [
    "def check_number(num):\n",
    "    if num > 0:\n",
    "        print(\"양수여. \")\n",
    "    elif num < 0:\n",
    "        print(\"음수 아니여? \")\n",
    "    elif num == 0:\n",
    "        (\"꽝! \")\n",
    "check_number(1972)"
   ]
  },
  {
   "cell_type": "code",
   "execution_count": 26,
   "metadata": {},
   "outputs": [
    {
     "name": "stdout",
     "output_type": "stream",
     "text": [
      "10\n"
     ]
    }
   ],
   "source": [
    "def get_first_element(numbers):\n",
    "    return_first = numbers[0]\n",
    "    return return_first\n",
    "result = get_first_element([10,20,30,40])\n",
    "print(result)\n"
   ]
  },
  {
   "cell_type": "code",
   "execution_count": 28,
   "metadata": {},
   "outputs": [
    {
     "name": "stdout",
     "output_type": "stream",
     "text": [
      "30\n"
     ]
    }
   ],
   "source": [
    "def calculate_average(numbers):\n",
    "    average_num = sum(numbers) // len(numbers)\n",
    "    return average_num\n",
    "result = calculate_average([10,20,30,40,50])\n",
    "print(result)"
   ]
  },
  {
   "cell_type": "code",
   "execution_count": 1,
   "metadata": {},
   "outputs": [
    {
     "name": "stdout",
     "output_type": "stream",
     "text": [
      "3 -1 2 0.5\n"
     ]
    }
   ],
   "source": [
    "def add(a,b):\n",
    "    return a+b\n",
    "def sub(a,b):\n",
    "    return a-b\n",
    "def mul(a,b):\n",
    "    return a*b\n",
    "def div(a,b):\n",
    "    return a/b\n",
    "a = 1\n",
    "b = 2\n",
    "c = add(a,b)\n",
    "d = sub(a,b)\n",
    "e = mul(a,b)\n",
    "f = div(a,b)\n",
    "print(c,d,e,f)\n",
    "    "
   ]
  },
  {
   "cell_type": "code",
   "execution_count": 2,
   "metadata": {},
   "outputs": [
    {
     "name": "stdout",
     "output_type": "stream",
     "text": [
      "16시간 4분 54초 \n"
     ]
    }
   ],
   "source": [
    "def sec_to_hms(seconds):\n",
    "    hr = seconds // 3600\n",
    "    min = (seconds % 3600) // 60\n",
    "    secs = (seconds % 3600) - 60 * min\n",
    "    return hr, min, secs\n",
    "hr, min_, secs = sec_to_hms(57894)\n",
    "print(f\"{hr}시간 {min_}분 {secs}초 \")"
   ]
  },
  {
   "cell_type": "code",
   "execution_count": 3,
   "metadata": {},
   "outputs": [
    {
     "name": "stdout",
     "output_type": "stream",
     "text": [
      "[1, 1, 2, 2, 3, 5, 9]\n",
      "[1, 2, 3, 4, 5, 6, 9, 9]\n"
     ]
    }
   ],
   "source": [
    "def merge_list(l1,l2):\n",
    "    merge = sorted(l1+l2)\n",
    "    return merge\n",
    "l = [3,5,9,1,2]\n",
    "ml1 = merge_list(l, [2, 1])\n",
    "ml2 = merge_list([6, 9, 4], l)\n",
    "\n",
    "print(ml1)\n",
    "print(ml2)"
   ]
  },
  {
   "cell_type": "code",
   "execution_count": 6,
   "metadata": {},
   "outputs": [
    {
     "name": "stdout",
     "output_type": "stream",
     "text": [
      "9\n",
      "1\n",
      "[3, 5, 2]\n"
     ]
    }
   ],
   "source": [
    "def get_min_max(l):\n",
    "    ultimate = max(l)\n",
    "    inferior = min(l)\n",
    "    l.remove(ultimate)\n",
    "    l.remove(inferior)\n",
    "    return ultimate, inferior\n",
    "nlist = [3, 5, 9, 1, 2]\n",
    "ultimate, inferior = get_min_max(nlist)\n",
    "print(ultimate)\n",
    "print(inferior)\n",
    "print(nlist)"
   ]
  },
  {
   "cell_type": "code",
   "execution_count": 16,
   "metadata": {},
   "outputs": [
    {
     "name": "stdout",
     "output_type": "stream",
     "text": [
      "오늘 점심은 부대찌개입니다. \n"
     ]
    }
   ],
   "source": [
    "def todays_lunch_taskforcejjigae(menu):\n",
    "    import random\n",
    "    오늘_점심은_이거다 = random.choice(menu)\n",
    "    print(f\"오늘 점심은 {오늘_점심은_이거다}입니다. \")\n",
    "todays_lunch_taskforcejjigae([\"된장찌개\", \"부대찌개\", \"김치찌개\"])\n",
    "\n",
    "\n"
   ]
  }
 ],
 "metadata": {
  "kernelspec": {
   "display_name": "Python 3",
   "language": "python",
   "name": "python3"
  },
  "language_info": {
   "codemirror_mode": {
    "name": "ipython",
    "version": 3
   },
   "file_extension": ".py",
   "mimetype": "text/x-python",
   "name": "python",
   "nbconvert_exporter": "python",
   "pygments_lexer": "ipython3",
   "version": "3.13.1"
  }
 },
 "nbformat": 4,
 "nbformat_minor": 2
}
