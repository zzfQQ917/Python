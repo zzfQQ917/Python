{
 "cells": [
  {
   "cell_type": "code",
   "execution_count": null,
   "metadata": {},
   "outputs": [
    {
     "name": "stdout",
     "output_type": "stream",
     "text": [
      "A 등급입니다. \n"
     ]
    }
   ],
   "source": [
    "score = int(input(\"점수를 입력하세요: \"))\n",
    "\n",
    "if score >= 90:\n",
    "    print(\"A 등급입니다. \")\n",
    "elif score >= 80 and score < 90:\n",
    "    print(\"B 등급입니다. \")\n",
    "elif score >= 70 and score < 80:\n",
    "    print(\"C 등급입니다. \")\n",
    "elif score >= 60 and score < 70:\n",
    "    print(\"D 등급입니다. \")\n",
    "else:\n",
    "    print(\"F 등급입니다. \")"
   ]
  },
  {
   "cell_type": "code",
   "execution_count": 3,
   "metadata": {},
   "outputs": [
    {
     "name": "stdout",
     "output_type": "stream",
     "text": [
      "0입니다. \n"
     ]
    }
   ],
   "source": [
    "num = int(input(\"숫자를 입력하세요. \"))\n",
    "\n",
    "if num >= 1:\n",
    "    print(\"양수입니다. \")\n",
    "elif num < 0:\n",
    "    print(\"음수입니다. \")\n",
    "else:\n",
    "    print(\"0입니다. \")"
   ]
  },
  {
   "cell_type": "code",
   "execution_count": 4,
   "metadata": {},
   "outputs": [
    {
     "name": "stdout",
     "output_type": "stream",
     "text": [
      "출금혔어. 남은 잔액은 0니께, 통장 잔고 확인혀. \n"
     ]
    }
   ],
   "source": [
    "remain_money = 20000\n",
    "export_money = int(input())\n",
    "\n",
    "if export_money > remain_money:\n",
    "    print(\"잔액이 부족혀. \")\n",
    "else:\n",
    "    if export_money % 10000 == 0: \n",
    "        print(f\"출금혔어. 남은 잔액은 {remain_money-export_money}니께, 통장 잔고 확인혀. \")\n",
    "    else:\n",
    "        print(\"출금은 10,000원 단위로만 가능혀. \")"
   ]
  },
  {
   "cell_type": "code",
   "execution_count": 5,
   "metadata": {},
   "outputs": [
    {
     "name": "stdout",
     "output_type": "stream",
     "text": [
      "요금: 2000원\n"
     ]
    }
   ],
   "source": [
    "age = int(input())\n",
    "accompany_with_traffic_card = input(\"Yes or No \")\n",
    "\n",
    "if age <= 6:\n",
    "    print(\"무료입니다. \")\n",
    "elif age >= 7 and age <= 12:\n",
    "    print(\"요금: 500원 \")\n",
    "elif age >= 13 and age <= 18:\n",
    "    print(\"요금: 1000원 \")\n",
    "elif age >= 19:\n",
    "    if accompany_with_traffic_card == \"Yes\":\n",
    "        print(\"요금: 1200원 \")\n",
    "    else:\n",
    "        print(\"요금: 2000원\")"
   ]
  },
  {
   "cell_type": "code",
   "execution_count": 6,
   "metadata": {},
   "outputs": [
    {
     "name": "stdout",
     "output_type": "stream",
     "text": [
      "187500\n"
     ]
    }
   ],
   "source": [
    "absolute = 0\n",
    "for odd_summarization in range(500, 1001):\n",
    "    if  odd_summarization % 2 != 0:\n",
    "        absolute += odd_summarization\n",
    "print(absolute)"
   ]
  },
  {
   "cell_type": "code",
   "execution_count": 7,
   "metadata": {},
   "outputs": [
    {
     "name": "stdout",
     "output_type": "stream",
     "text": [
      "1945378\n"
     ]
    }
   ],
   "source": [
    "assimilation = int(input())\n",
    "zero = 0\n",
    "\n",
    "for yee in range(1, assimilation+1):\n",
    "    zero += yee\n",
    "print(zero)"
   ]
  },
  {
   "cell_type": "code",
   "execution_count": 8,
   "metadata": {},
   "outputs": [
    {
     "name": "stdout",
     "output_type": "stream",
     "text": [
      "i\n",
      "a\n",
      "o\n"
     ]
    }
   ],
   "source": [
    "string = input(\"\")\n",
    "\n",
    "for allocate in string:\n",
    "    if allocate in [\"a\",\"e\",\"i\",\"o\",\"u\"]:\n",
    "        print(f\"{allocate}\")"
   ]
  },
  {
   "cell_type": "code",
   "execution_count": 9,
   "metadata": {},
   "outputs": [
    {
     "name": "stdout",
     "output_type": "stream",
     "text": [
      "5\n"
     ]
    }
   ],
   "source": [
    "mutant_number_list = [1, 2, 3, 4, 5]\n",
    "max_num = 0\n",
    "\n",
    "for maximum in mutant_number_list:\n",
    "    if maximum > max_num:\n",
    "        max_num = maximum\n",
    "print(max_num)"
   ]
  },
  {
   "cell_type": "code",
   "execution_count": null,
   "metadata": {},
   "outputs": [
    {
     "name": "stdout",
     "output_type": "stream",
     "text": [
      "10\n"
     ]
    }
   ],
   "source": [
    "1"
   ]
  },
  {
   "cell_type": "code",
   "execution_count": null,
   "metadata": {},
   "outputs": [],
   "source": []
  }
 ],
 "metadata": {
  "kernelspec": {
   "display_name": "Python 3",
   "language": "python",
   "name": "python3"
  },
  "language_info": {
   "codemirror_mode": {
    "name": "ipython",
    "version": 3
   },
   "file_extension": ".py",
   "mimetype": "text/x-python",
   "name": "python",
   "nbconvert_exporter": "python",
   "pygments_lexer": "ipython3",
   "version": "3.13.1"
  }
 },
 "nbformat": 4,
 "nbformat_minor": 2
}
