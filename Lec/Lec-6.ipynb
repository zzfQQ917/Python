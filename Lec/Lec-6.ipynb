{
 "cells": [
  {
   "cell_type": "code",
   "execution_count": null,
   "metadata": {},
   "outputs": [
    {
     "name": "stdout",
     "output_type": "stream",
     "text": [
      "A 등급입니다. \n"
     ]
    }
   ],
   "source": [
    "score = int(input(\"점수를 입력하세요: \"))\n",
    "\n",
    "if score >= 90:\n",
    "    print(\"A 등급입니다. \")\n",
    "elif score >= 80 and score < 90:\n",
    "    print(\"B 등급입니다. \")\n",
    "elif score >= 70 and score < 80:\n",
    "    print(\"C 등급입니다. \")\n",
    "elif score >= 60 and score < 70:\n",
    "    print(\"D 등급입니다. \")\n",
    "else:\n",
    "    print(\"F 등급입니다. \")"
   ]
  },
  {
   "cell_type": "code",
   "execution_count": 3,
   "metadata": {},
   "outputs": [
    {
     "name": "stdout",
     "output_type": "stream",
     "text": [
      "0입니다. \n"
     ]
    }
   ],
   "source": [
    "num = int(input(\"숫자를 입력하세요. \"))\n",
    "\n",
    "if num >= 1:\n",
    "    print(\"양수입니다. \")\n",
    "elif num < 0:\n",
    "    print(\"음수입니다. \")\n",
    "else:\n",
    "    print(\"0입니다. \")"
   ]
  },
  {
   "cell_type": "code",
   "execution_count": 4,
   "metadata": {},
   "outputs": [
    {
     "name": "stdout",
     "output_type": "stream",
     "text": [
      "출금혔어. 남은 잔액은 0니께, 통장 잔고 확인혀. \n"
     ]
    }
   ],
   "source": [
    "remain_money = 20000\n",
    "export_money = int(input())\n",
    "\n",
    "if export_money > remain_money:\n",
    "    print(\"잔액이 부족혀. \")\n",
    "else:\n",
    "    if export_money % 10000 == 0: \n",
    "        print(f\"출금혔어. 남은 잔액은 {remain_money-export_money}니께, 통장 잔고 확인혀. \")\n",
    "    else:\n",
    "        print(\"출금은 10,000원 단위로만 가능혀. \")"
   ]
  },
  {
   "cell_type": "code",
   "execution_count": 5,
   "metadata": {},
   "outputs": [
    {
     "name": "stdout",
     "output_type": "stream",
     "text": [
      "요금: 2000원\n"
     ]
    }
   ],
   "source": [
    "age = int(input())\n",
    "accompany_with_traffic_card = input(\"Yes or No \")\n",
    "\n",
    "if age <= 6:\n",
    "    print(\"무료입니다. \")\n",
    "elif age >= 7 and age <= 12:\n",
    "    print(\"요금: 500원 \")\n",
    "elif age >= 13 and age <= 18:\n",
    "    print(\"요금: 1000원 \")\n",
    "elif age >= 19:\n",
    "    if accompany_with_traffic_card == \"Yes\":\n",
    "        print(\"요금: 1200원 \")\n",
    "    else:\n",
    "        print(\"요금: 2000원\")"
   ]
  },
  {
   "cell_type": "code",
   "execution_count": 6,
   "metadata": {},
   "outputs": [
    {
     "name": "stdout",
     "output_type": "stream",
     "text": [
      "187500\n"
     ]
    }
   ],
   "source": [
    "absolute = 0\n",
    "for odd_summarization in range(500, 1001):\n",
    "    if  odd_summarization % 2 != 0:\n",
    "        absolute += odd_summarization\n",
    "print(absolute)"
   ]
  },
  {
   "cell_type": "code",
   "execution_count": 7,
   "metadata": {},
   "outputs": [
    {
     "name": "stdout",
     "output_type": "stream",
     "text": [
      "1945378\n"
     ]
    }
   ],
   "source": [
    "assimilation = int(input())\n",
    "zero = 0\n",
    "\n",
    "for yee in range(1, assimilation+1):\n",
    "    zero += yee\n",
    "print(zero)"
   ]
  },
  {
   "cell_type": "code",
   "execution_count": 8,
   "metadata": {},
   "outputs": [
    {
     "name": "stdout",
     "output_type": "stream",
     "text": [
      "i\n",
      "a\n",
      "o\n"
     ]
    }
   ],
   "source": [
    "string = input(\"\")\n",
    "\n",
    "for allocate in string:\n",
    "    if allocate in [\"a\",\"e\",\"i\",\"o\",\"u\"]:\n",
    "        print(f\"{allocate}\")"
   ]
  },
  {
   "cell_type": "code",
   "execution_count": 9,
   "metadata": {},
   "outputs": [
    {
     "name": "stdout",
     "output_type": "stream",
     "text": [
      "5\n"
     ]
    }
   ],
   "source": [
    "mutant_number_list = [1, 2, 3, 4, 5]\n",
    "max_num = 0\n",
    "\n",
    "for maximum in mutant_number_list:\n",
    "    if maximum > max_num:\n",
    "        max_num = maximum\n",
    "print(max_num)"
   ]
  },
  {
   "cell_type": "code",
   "execution_count": 1,
   "metadata": {},
   "outputs": [
    {
     "name": "stdout",
     "output_type": "stream",
     "text": [
      "2 x 1 = 2\n",
      "2 x 2 = 4\n",
      "2 x 3 = 6\n",
      "2 x 4 = 8\n",
      "2 x 5 = 10\n",
      "2 x 6 = 12\n",
      "2 x 7 = 14\n",
      "2 x 8 = 16\n",
      "2 x 9 = 18\n",
      "3 x 1 = 3\n",
      "3 x 2 = 6\n",
      "3 x 3 = 9\n",
      "3 x 4 = 12\n",
      "3 x 5 = 15\n",
      "3 x 6 = 18\n",
      "3 x 7 = 21\n",
      "3 x 8 = 24\n",
      "3 x 9 = 27\n",
      "4 x 1 = 4\n",
      "4 x 2 = 8\n",
      "4 x 3 = 12\n",
      "4 x 4 = 16\n",
      "4 x 5 = 20\n",
      "4 x 6 = 24\n",
      "4 x 7 = 28\n",
      "4 x 8 = 32\n",
      "4 x 9 = 36\n",
      "5 x 1 = 5\n",
      "5 x 2 = 10\n",
      "5 x 3 = 15\n",
      "5 x 4 = 20\n",
      "5 x 5 = 25\n",
      "5 x 6 = 30\n",
      "5 x 7 = 35\n",
      "5 x 8 = 40\n",
      "5 x 9 = 45\n",
      "6 x 1 = 6\n",
      "6 x 2 = 12\n",
      "6 x 3 = 18\n",
      "6 x 4 = 24\n",
      "6 x 5 = 30\n",
      "6 x 6 = 36\n",
      "6 x 7 = 42\n",
      "6 x 8 = 48\n",
      "6 x 9 = 54\n",
      "7 x 1 = 7\n",
      "7 x 2 = 14\n",
      "7 x 3 = 21\n",
      "7 x 4 = 28\n",
      "7 x 5 = 35\n",
      "7 x 6 = 42\n",
      "7 x 7 = 49\n",
      "7 x 8 = 56\n",
      "7 x 9 = 63\n",
      "8 x 1 = 8\n",
      "8 x 2 = 16\n",
      "8 x 3 = 24\n",
      "8 x 4 = 32\n",
      "8 x 5 = 40\n",
      "8 x 6 = 48\n",
      "8 x 7 = 56\n",
      "8 x 8 = 64\n",
      "8 x 9 = 72\n",
      "9 x 1 = 9\n",
      "9 x 2 = 18\n",
      "9 x 3 = 27\n",
      "9 x 4 = 36\n",
      "9 x 5 = 45\n",
      "9 x 6 = 54\n",
      "9 x 7 = 63\n",
      "9 x 8 = 72\n",
      "9 x 9 = 81\n"
     ]
    }
   ],
   "source": [
    "for multiplication in range(2, 10):\n",
    "    for second_dan in range(1, 10):\n",
    "        print(f\"{multiplication} x {second_dan} = {multiplication*second_dan}\")\n",
    "        "
   ]
  },
  {
   "cell_type": "code",
   "execution_count": 2,
   "metadata": {},
   "outputs": [
    {
     "name": "stdout",
     "output_type": "stream",
     "text": [
      "*\n",
      "**\n",
      "***\n",
      "****\n",
      "*****\n"
     ]
    }
   ],
   "source": [
    "for star in range(1, 6):\n",
    "    var = \"*\"\n",
    "    print(var * star)\n"
   ]
  },
  {
   "cell_type": "code",
   "execution_count": 8,
   "metadata": {},
   "outputs": [
    {
     "name": "stdout",
     "output_type": "stream",
     "text": [
      "1 \n",
      "1 2 \n",
      "1 2 3 \n",
      "1 2 3 4 \n",
      "1 2 3 4 5 \n"
     ]
    }
   ],
   "source": [
    "\n",
    "for num in range(1, 6):\n",
    "    for addition in range(1, num+1):\n",
    "        print(addition, end=\" \")\n",
    "    print()"
   ]
  },
  {
   "cell_type": "code",
   "execution_count": 9,
   "metadata": {},
   "outputs": [
    {
     "name": "stdout",
     "output_type": "stream",
     "text": [
      "1\n",
      "2\n",
      "3\n",
      "4\n",
      "5\n"
     ]
    }
   ],
   "source": [
    "i = 1\n",
    "\n",
    "while i <= 5:\n",
    "    print(i)\n",
    "    i += 1"
   ]
  },
  {
   "cell_type": "code",
   "execution_count": 10,
   "metadata": {},
   "outputs": [
    {
     "name": "stdout",
     "output_type": "stream",
     "text": [
      "15\n"
     ]
    }
   ],
   "source": [
    "first, hap = 1, 0\n",
    "\n",
    "while first <= 5:\n",
    "    hap += first\n",
    "    first += 1\n",
    "print(hap)"
   ]
  },
  {
   "cell_type": "code",
   "execution_count": 13,
   "metadata": {},
   "outputs": [
    {
     "name": "stdout",
     "output_type": "stream",
     "text": [
      "30\n"
     ]
    }
   ],
   "source": [
    "even_num = 1\n",
    "res = 0\n",
    "\n",
    "while even_num <= 10:\n",
    "    if even_num % 2 == 0:\n",
    "        res += even_num\n",
    "    even_num += 1\n",
    "print(res)"
   ]
  },
  {
   "cell_type": "code",
   "execution_count": 14,
   "metadata": {},
   "outputs": [
    {
     "name": "stdout",
     "output_type": "stream",
     "text": [
      "10\n",
      "9\n",
      "8\n",
      "7\n",
      "6\n",
      "5\n",
      "4\n",
      "3\n",
      "2\n",
      "1\n"
     ]
    }
   ],
   "source": [
    "ten = 10\n",
    "\n",
    "while  1 <= ten:\n",
    "    print(ten)\n",
    "    ten -= 1\n",
    "    "
   ]
  },
  {
   "cell_type": "code",
   "execution_count": 17,
   "metadata": {},
   "outputs": [
    {
     "name": "stdout",
     "output_type": "stream",
     "text": [
      "더 큰 숫자를 입력하라우!\n",
      "정답입니다. \n"
     ]
    }
   ],
   "source": [
    "import random\n",
    "num = random.randint(1, 10)\n",
    "\n",
    "while True:\n",
    "    user_input = int(input(\"1부터 10까지 숫자를 맞춰보세유. \"))\n",
    "    if user_input == num:\n",
    "        print(\"정답입니다. \")\n",
    "        break\n",
    "    elif user_input < num:\n",
    "        print(\"더 큰 숫자를 입력하라우!\" )\n",
    "        continue\n",
    "    elif user_input > num:\n",
    "        print(\"더 작은 숫자를 쓰라우! \")\n"
   ]
  },
  {
   "cell_type": "code",
   "execution_count": null,
   "metadata": {},
   "outputs": [],
   "source": [
    "integer = input().split(\" \")\n",
    "zero = 0\n",
    "\n",
    "for highest in integer:\n",
    "    zero += highest\n"
   ]
  }
 ],
 "metadata": {
  "kernelspec": {
   "display_name": "Python 3",
   "language": "python",
   "name": "python3"
  },
  "language_info": {
   "codemirror_mode": {
    "name": "ipython",
    "version": 3
   },
   "file_extension": ".py",
   "mimetype": "text/x-python",
   "name": "python",
   "nbconvert_exporter": "python",
   "pygments_lexer": "ipython3",
   "version": "3.13.1"
  }
 },
 "nbformat": 4,
 "nbformat_minor": 2
}
