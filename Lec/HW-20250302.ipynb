{
 "cells": [
  {
   "cell_type": "code",
   "execution_count": 3,
   "metadata": {},
   "outputs": [
    {
     "name": "stdout",
     "output_type": "stream",
     "text": [
      "1166998833.0 원입니다. \n"
     ]
    }
   ],
   "source": [
    "#1\n",
    "exchange = {\n",
    "\"달러\":1167,\n",
    "\"엔\":1096,\n",
    "\"유로\":1268,\n",
    "\"위안\":171\n",
    "}\n",
    "\n",
    "in_put = input(\"입력: \")\n",
    "classify = in_put.split()\n",
    "currency = float(classify[0])\n",
    "\n",
    "if classify[1] in exchange:\n",
    "    result = currency * exchange[classify[1]]\n",
    "    print(f\"{result} 원입니다. \")\n",
    "\n",
    "\n"
   ]
  },
  {
   "cell_type": "code",
   "execution_count": 4,
   "metadata": {},
   "outputs": [
    {
     "name": "stdout",
     "output_type": "stream",
     "text": [
      "1000이 가장 큰 숫자입니다. \n"
     ]
    }
   ],
   "source": [
    "#2\n",
    "input_number1 = int(input())\n",
    "input_number2 = int(input())\n",
    "input_number3 = int(input())\n",
    "\n",
    "if input_number1 > input_number2 and input_number1 > input_number3:\n",
    "    print(f\"{input_number1}이 가장 큰 숫자입니다. \")\n",
    "elif input_number2 > input_number1 and input_number2 > input_number3:\n",
    "    print(f\"{input_number2}이 가장 큰 숫자입니다. \")\n",
    "elif input_number3 > input_number2 and input_number3 > input_number1:\n",
    "    print(f\"{input_number3}이 가장 큰 숫자입니다. \")\n"
   ]
  },
  {
   "cell_type": "code",
   "execution_count": null,
   "metadata": {},
   "outputs": [
    {
     "name": "stdout",
     "output_type": "stream",
     "text": [
      "당신은 SKT 사용자입니다. \n"
     ]
    }
   ],
   "source": [
    "#3\n",
    "cell_phone_connector = {\n",
    "    \"011\": \"SKT\",\n",
    "    \"016\": \"KT\",\n",
    "    \"019\": \"LGU\",\n",
    "    \"010\": \"알 수 없음\"\n",
    "}\n",
    "\n",
    "phone_num = input(\"휴대전화 번호 입력: \")\n",
    "define = phone_num.split(\"-\")\n",
    "\n",
    "if define[0] in cell_phone_connector:\n",
    "    resultance = cell_phone_connector[define[0]]\n",
    "    print(f\"당신은 {resultance} 사용자입니다. \")"
   ]
  },
  {
   "cell_type": "code",
   "execution_count": 8,
   "metadata": {},
   "outputs": [
    {
     "name": "stdout",
     "output_type": "stream",
     "text": [
      "강북구\n"
     ]
    }
   ],
   "source": [
    "#4\n",
    "district_num = {\n",
    "    \"0\":\"강북구\",\n",
    "    \"1\":\"강북구\",\n",
    "    \"2\":\"강북구\",\n",
    "    \"3\":\"도봉구\",\n",
    "    \"4\":\"도봉구\"\n",
    "}\n",
    "\n",
    "post_num = input(\"우편번호: \")\n",
    "separation = district_num[post_num[2]]\n",
    "\n",
    "if post_num[:2] == \"01\":\n",
    "    print(separation)"
   ]
  },
  {
   "cell_type": "code",
   "execution_count": null,
   "metadata": {},
   "outputs": [
    {
     "name": "stdout",
     "output_type": "stream",
     "text": [
      "meal\n"
     ]
    }
   ],
   "source": [
    "#5\n",
    "citizen_verify_code = {\n",
    "    \"1\":\"male\",\n",
    "    \"2\":\"meal\",\n",
    "    \"3\":\"female\",\n",
    "    \"4\":\"fumale\"\n",
    "}\n",
    "\n",
    "input_verification = input(\"주민등록번호: \")\n",
    "chosen_sexuality = input_verification.split(\"-\")\n",
    "examination = chosen_sexuality[1][0]\n",
    "\n",
    "print(citizen_verify_code[examination])"
   ]
  },
  {
   "cell_type": "code",
   "execution_count": 12,
   "metadata": {},
   "outputs": [
    {
     "name": "stdout",
     "output_type": "stream",
     "text": [
      "12\n",
      "18\n"
     ]
    }
   ],
   "source": [
    "#6\n",
    "list1 = [13, 21, 12, 14, 30, 18]\n",
    "\n",
    "for repeatation in list1:\n",
    "    if repeatation < 20 and repeatation % 3 == 0:\n",
    "        print(repeatation)"
   ]
  },
  {
   "cell_type": "code",
   "execution_count": null,
   "metadata": {},
   "outputs": [],
   "source": []
  }
 ],
 "metadata": {
  "kernelspec": {
   "display_name": "Python 3",
   "language": "python",
   "name": "python3"
  },
  "language_info": {
   "codemirror_mode": {
    "name": "ipython",
    "version": 3
   },
   "file_extension": ".py",
   "mimetype": "text/x-python",
   "name": "python",
   "nbconvert_exporter": "python",
   "pygments_lexer": "ipython3",
   "version": "3.13.1"
  }
 },
 "nbformat": 4,
 "nbformat_minor": 2
}
