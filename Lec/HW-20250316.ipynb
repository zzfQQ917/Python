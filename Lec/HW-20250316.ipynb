{
 "cells": [
  {
   "cell_type": "code",
   "execution_count": 1,
   "metadata": {},
   "outputs": [
    {
     "name": "stdout",
     "output_type": "stream",
     "text": [
      "[['101호', '102호'], ['201호', '202호'], ['301호', '302호']]\n"
     ]
    }
   ],
   "source": [
    "apart = [[\"101호\", \"102호\"], [\"201호\", \"202호\"],[\"301호\",\"302호\"]]\n",
    "print(apart)"
   ]
  },
  {
   "cell_type": "code",
   "execution_count": 2,
   "metadata": {},
   "outputs": [
    {
     "name": "stdout",
     "output_type": "stream",
     "text": [
      "시가: [100, 200, 300]\n",
      "종가: [80, 210, 330]\n"
     ]
    }
   ],
   "source": [
    "stock = [[100, 200, 300], [80, 210, 330]]\n",
    "\n",
    "print(\"시가:\", stock[0])\n",
    "print(\"종가:\", stock[1])\n",
    "\n",
    "\n"
   ]
  },
  {
   "cell_type": "code",
   "execution_count": 3,
   "metadata": {},
   "outputs": [
    {
     "name": "stdout",
     "output_type": "stream",
     "text": [
      "[100, 200, 300]\n",
      "[80, 210, 330]\n"
     ]
    }
   ],
   "source": [
    "stock = {\n",
    "    \"시가\":[100, 200, 300],\n",
    "    \"종가\":[80, 210, 330]\n",
    "}\n",
    "\n",
    "print(stock[\"시가\"])\n",
    "print(stock[\"종가\"])"
   ]
  },
  {
   "cell_type": "code",
   "execution_count": 4,
   "metadata": {},
   "outputs": [
    {
     "name": "stdout",
     "output_type": "stream",
     "text": [
      "[80, 110, 70, 90]\n",
      "[210, 230, 190, 200]\n"
     ]
    }
   ],
   "source": [
    "stock = {\n",
    "    \"10/10\":[80, 110, 70, 90],\n",
    "    \"10/11\":[210, 230, 190, 200]\n",
    "}\n",
    "\n",
    "print(stock[\"10/10\"])\n",
    "print(stock[\"10/11\"])"
   ]
  },
  {
   "cell_type": "code",
   "execution_count": 10,
   "metadata": {},
   "outputs": [
    {
     "name": "stdout",
     "output_type": "stream",
     "text": [
      "101 호\n",
      "102 호\n",
      "201 호\n",
      "202 호\n",
      "301 호\n",
      "302 호\n"
     ]
    }
   ],
   "source": [
    "apart = [ [101, 102], [201, 202], [301, 302] ]\n",
    "\n",
    "for array in apart:\n",
    "    for organize in array:\n",
    "        print(f\"{organize} 호\")"
   ]
  }
 ],
 "metadata": {
  "kernelspec": {
   "display_name": "Python 3",
   "language": "python",
   "name": "python3"
  },
  "language_info": {
   "codemirror_mode": {
    "name": "ipython",
    "version": 3
   },
   "file_extension": ".py",
   "mimetype": "text/x-python",
   "name": "python",
   "nbconvert_exporter": "python",
   "pygments_lexer": "ipython3",
   "version": "3.13.1"
  }
 },
 "nbformat": 4,
 "nbformat_minor": 2
}
