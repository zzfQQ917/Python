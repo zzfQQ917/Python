{
 "cells": [
  {
   "cell_type": "code",
   "execution_count": 1,
   "metadata": {},
   "outputs": [
    {
     "name": "stdout",
     "output_type": "stream",
     "text": [
      "전사이 10 만큼의 MP를 소진하여 공격하였습니다. \n",
      "마법사이 30 가량의 체력을 회복하였습니다. MP를 5 만큼 소진하였습니다. \n",
      "전사의 HP : 100, MP : 40\n",
      "마법사의 HP : 110, MP : 65\n"
     ]
    }
   ],
   "source": [
    "class RPG:\n",
    "    name = \"\"\n",
    "    hp = 100\n",
    "    mp = 50\n",
    "\n",
    "    def attack(self):\n",
    "        self.mp -= 10\n",
    "        print(f\"{self.name}이 10 만큼의 MP를 소진하여 공격하였습니다. \")\n",
    "\n",
    "    def heal(self, amount):\n",
    "        self.hp += amount\n",
    "        self.mp -= 5\n",
    "        print(f\"{self.name}이 {amount} 가량의 체력을 회복하였습니다. MP를 5 만큼 소진하였습니다. \")\n",
    "\n",
    "typeWarrior = RPG()\n",
    "typeWarrior.name = \"전사\"\n",
    "typeMage = RPG()\n",
    "typeMage.name = \"마법사\"\n",
    "\n",
    "typeMage.hp = 80\n",
    "typeMage.mp = 70\n",
    "\n",
    "typeWarrior.attack()\n",
    "typeMage.heal(30)\n",
    "\n",
    "print(f\"전사의 HP : {typeWarrior.hp}, MP : {typeWarrior.mp}\")\n",
    "print(f\"마법사의 HP : {typeMage.hp}, MP : {typeMage.mp}\")"
   ]
  },
  {
   "cell_type": "code",
   "execution_count": 2,
   "metadata": {},
   "outputs": [
    {
     "name": "stdout",
     "output_type": "stream",
     "text": [
      "입금 완료. 남은 잔액은 3000 입니다. \n",
      "출금 완료. 남은 잔액은 2000 입니다. \n",
      "홍길동의 잔액 3000\n",
      "김영희의 잔액 2000\n"
     ]
    }
   ],
   "source": [
    "class BankAccount:\n",
    "    owner = \"\"\n",
    "    balance = 0\n",
    "\n",
    "    def deposit(self, amount):\n",
    "        self.balance += amount\n",
    "        print(f\"입금 완료. 남은 잔액은 {self.balance} 입니다. \")\n",
    "    def withdraw(self, amount):\n",
    "        self.balance -= amount\n",
    "        print(f\"출금 완료. 남은 잔액은 {self.balance} 입니다. \")\n",
    "\n",
    "accountH = BankAccount()\n",
    "accountK = BankAccount()\n",
    "\n",
    "accountH.owner = \"홍길동\"\n",
    "accountK.owner = \"김영희\"\n",
    "\n",
    "accountH.balance = 1000\n",
    "accountK.balance = 5000\n",
    "\n",
    "accountH.deposit(2000)\n",
    "accountK.withdraw(3000)\n",
    "\n",
    "print(f\"홍길동의 잔액 {accountH.balance}\")\n",
    "print(f\"김영희의 잔액 {accountK.balance}\")\n",
    "\n"
   ]
  },
  {
   "cell_type": "code",
   "execution_count": 5,
   "metadata": {},
   "outputs": [
    {
     "name": "stdout",
     "output_type": "stream",
     "text": [
      "점수가 5 만큼 증가하였습니다. \n",
      "점수가 10 만큼 증가하였습니다. \n",
      "홍길동 : 홍길동 (2 학년), 점수 : 95\n",
      "홍길동 : 김영희 (3 학년), 점수 : 95\n"
     ]
    }
   ],
   "source": [
    "class Student:\n",
    "    name = \"\"\n",
    "    grade = 0\n",
    "    score = 0\n",
    "    def __init__(self, name, grade, score):\n",
    "        self.name = name\n",
    "        self.grade = grade\n",
    "        self.score = score\n",
    "\n",
    "    def addScore(self, amount):\n",
    "        self.score += amount\n",
    "        print(f\"점수가 {amount} 만큼 증가하였습니다. \")\n",
    "\n",
    "    def showInfo(self):\n",
    "        print(f\"홍길동 : {self.name} ({self.grade} 학년), 점수 : {self.score}\")\n",
    "    \n",
    "firstStudent = Student(\"홍길동\", 2, 90)\n",
    "secondStudent = Student(\"김영희\", 3, 85)\n",
    "\n",
    "firstStudent.addScore(5)\n",
    "secondStudent.addScore(10)\n",
    "\n",
    "firstStudent.showInfo()\n",
    "secondStudent.showInfo()\n",
    "\n"
   ]
  },
  {
   "cell_type": "code",
   "execution_count": null,
   "metadata": {},
   "outputs": [
    {
     "name": "stdout",
     "output_type": "stream",
     "text": [
      "대출되었습니다. \n",
      "대출되었습니다. \n",
      "이미 반납된 상태입니다. \n",
      "False\n",
      "False\n"
     ]
    },
    {
     "ename": "",
     "evalue": "",
     "output_type": "error",
     "traceback": [
      "\u001b[1;31mThe Kernel crashed while executing code in the current cell or a previous cell. \n",
      "\u001b[1;31mPlease review the code in the cell(s) to identify a possible cause of the failure. \n",
      "\u001b[1;31mClick <a href='https://aka.ms/vscodeJupyterKernelCrash'>here</a> for more info. \n",
      "\u001b[1;31mView Jupyter <a href='command:jupyter.viewOutput'>log</a> for further details."
     ]
    }
   ],
   "source": [
    "class Book:\n",
    "    title = \"\"\n",
    "    author = \"\"\n",
    "    is_borrowed = False\n",
    "    \n",
    "    def __init__(self,title, author):\n",
    "        self.title = title\n",
    "        self.author = author\n",
    "\n",
    "    def borrow(self):\n",
    "        if self.is_borrowed == True:\n",
    "            print(\"이미 대출 중입니다. \")\n",
    "        else:\n",
    "            print(\"대출되었습니다. \")\n",
    "    \n",
    "    def returnBook(self):\n",
    "        if self.is_borrowed == False:\n",
    "            print(\"이미 반납된 상태입니다. \")\n",
    "        else:\n",
    "            self.is_borrowed == True\n",
    "            print(\"반납되었습니다. \")\n",
    "\n",
    "firstTitle = Book(\"파이썬 입문\", \"홍길동\")\n",
    "secondTitle = Book(\"자료구조\",\"김영희\")\n",
    "\n",
    "firstTitle.borrow()\n",
    "secondTitle.borrow()\n",
    "secondTitle.returnBook()\n",
    "\n",
    "print(firstTitle.is_borrowed)\n",
    "print(secondTitle.is_borrowed)"
   ]
  }
 ],
 "metadata": {
  "kernelspec": {
   "display_name": "Python 3",
   "language": "python",
   "name": "python3"
  },
  "language_info": {
   "codemirror_mode": {
    "name": "ipython",
    "version": 3
   },
   "file_extension": ".py",
   "mimetype": "text/x-python",
   "name": "python",
   "nbconvert_exporter": "python",
   "pygments_lexer": "ipython3",
   "version": "3.13.1"
  }
 },
 "nbformat": 4,
 "nbformat_minor": 2
}
